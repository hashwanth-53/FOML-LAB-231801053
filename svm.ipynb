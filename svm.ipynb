{
 "cells": [
  {
   "cell_type": "code",
   "execution_count": 1,
   "id": "9244d8eb-4c10-4331-bf08-16bcac696c73",
   "metadata": {},
   "outputs": [
    {
     "name": "stdout",
     "output_type": "stream",
     "text": [
      "Accuracy: 0.7166666666666667\n"
     ]
    }
   ],
   "source": [
    "import pandas as pd\n",
    "from sklearn.model_selection import train_test_split\n",
    "from sklearn.svm import SVC\n",
    "from sklearn.metrics import accuracy_score\n",
    "\n",
    "# Step 1: Load your SUV dataset from a CSV file\n",
    "df = pd.read_csv('suv_data.csv') # Update with the correct path to your SUV dataset\n",
    "\n",
    "# Step 2: Define features and target variable\n",
    "# Assuming the target variable is 'Purchased'\n",
    "X = df.drop(columns=['Purchased']) # Features (all columns except the target)\n",
    "y = df['Purchased'] # Target variable\n",
    "\n",
    "# Step 3: One-hot encode categorical variables manually\n",
    "X = pd.get_dummies(X, drop_first=True) # Automatically handle categorical variables\n",
    "\n",
    "# Step 4: Split the dataset into training and testing sets\n",
    "X_train, X_test, y_train, y_test = train_test_split(X, y, test_size=0.3, random_state=42)\n",
    "\n",
    "# Step 5: Create and train the SVM classifier\n",
    "svm_model = SVC(kernel='linear', random_state=42) # You can change the kernel if needed\n",
    "svm_model.fit(X_train, y_train)\n",
    "\n",
    "# Step 6: Make predictions\n",
    "y_pred = svm_model.predict(X_test)\n",
    "\n",
    "# Step 7: Evaluate the model\n",
    "accuracy = accuracy_score(y_test, y_pred)\n",
    "print(\"Accuracy:\", accuracy)"
   ]
  },
  {
   "cell_type": "code",
   "execution_count": null,
   "id": "23adc19d-f178-4e2e-87a6-97a2fbe12eb3",
   "metadata": {},
   "outputs": [],
   "source": []
  }
 ],
 "metadata": {
  "kernelspec": {
   "display_name": "Python 3 (ipykernel)",
   "language": "python",
   "name": "python3"
  },
  "language_info": {
   "codemirror_mode": {
    "name": "ipython",
    "version": 3
   },
   "file_extension": ".py",
   "mimetype": "text/x-python",
   "name": "python",
   "nbconvert_exporter": "python",
   "pygments_lexer": "ipython3",
   "version": "3.12.4"
  }
 },
 "nbformat": 4,
 "nbformat_minor": 5
}
