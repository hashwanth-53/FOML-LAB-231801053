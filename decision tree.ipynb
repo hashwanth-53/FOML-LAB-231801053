{
 "cells": [
  {
   "cell_type": "code",
   "execution_count": 1,
   "id": "930607c8-b670-4d04-8f5c-b7d66532813b",
   "metadata": {},
   "outputs": [
    {
     "name": "stdout",
     "output_type": "stream",
     "text": [
      "Accuracy: 0.9\n",
      "Confusion Matrix:\n",
      "[[68  5]\n",
      " [ 7 40]]\n"
     ]
    }
   ],
   "source": [
    "import pandas as pd\n",
    "from sklearn.model_selection import train_test_split\n",
    "from sklearn.tree import DecisionTreeClassifier\n",
    "from sklearn.metrics import accuracy_score, confusion_matrix\n",
    "\n",
    "# Step 1: Load your SUV dataset from a CSV file\n",
    "df = pd.read_csv('suv_data.csv') # Update with the correct path to your SUV dataset\n",
    "\n",
    "# Step 2: Define features and target variable\n",
    "X = df.drop(columns=['Purchased']) # Features (all columns except the target)\n",
    "y = df['Purchased'] # Target variable\n",
    "\n",
    "# Step 3: One-hot encode categorical variables manually\n",
    "X = pd.get_dummies(X, drop_first=True) # Automatically handle categorical variables\n",
    "\n",
    "# Step 4: Split the dataset into training and testing sets\n",
    "X_train, X_test, y_train, y_test = train_test_split(X, y, test_size=0.3, random_state=42)\n",
    "\n",
    "# Step 5: Create and train the Decision Tree classifier\n",
    "dt_model = DecisionTreeClassifier(random_state=42) # You can specify additional parameters if needed\n",
    "dt_model.fit(X_train, y_train)\n",
    "\n",
    "# Step 6: Make predictions\n",
    "y_pred = dt_model.predict(X_test)\n",
    "\n",
    "# Step 7: Evaluate the model\n",
    "accuracy = accuracy_score(y_test, y_pred)\n",
    "print(\"Accuracy:\", accuracy)\n",
    "\n",
    "# Step 8: Print the confusion matrix\n",
    "cm = confusion_matrix(y_test, y_pred)\n",
    "print(\"Confusion Matrix:\")\n",
    "print(cm)\n"
   ]
  },
  {
   "cell_type": "code",
   "execution_count": null,
   "id": "c766902e-935b-43e2-a2d0-e5140b446de7",
   "metadata": {},
   "outputs": [],
   "source": []
  }
 ],
 "metadata": {
  "kernelspec": {
   "display_name": "Python 3 (ipykernel)",
   "language": "python",
   "name": "python3"
  },
  "language_info": {
   "codemirror_mode": {
    "name": "ipython",
    "version": 3
   },
   "file_extension": ".py",
   "mimetype": "text/x-python",
   "name": "python",
   "nbconvert_exporter": "python",
   "pygments_lexer": "ipython3",
   "version": "3.12.4"
  }
 },
 "nbformat": 4,
 "nbformat_minor": 5
}
