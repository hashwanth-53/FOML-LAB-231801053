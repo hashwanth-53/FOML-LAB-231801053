{
  "nbformat": 4,
  "nbformat_minor": 0,
  "metadata": {
    "colab": {
      "provenance": []
    },
    "kernelspec": {
      "name": "python3",
      "display_name": "Python 3"
    },
    "language_info": {
      "name": "python"
    }
  },
  "cells": [
    {
      "cell_type": "code",
      "execution_count": null,
      "metadata": {
        "id": "aeb0ThXIu2gQ"
      },
      "outputs": [],
      "source": [
        "# Data Manipulation\n",
        "import pandas as pd\n",
        "import numpy as np\n",
        "\n",
        "# Visualization\n",
        "import matplotlib.pyplot as plt\n",
        "import seaborn as sns\n",
        "\n",
        "# Machine Learning\n",
        "from sklearn.model_selection import train_test_split\n",
        "from sklearn.ensemble import RandomForestRegressor\n",
        "from sklearn.metrics import mean_squared_error, r2_score\n",
        "import joblib\n"
      ]
    },
    {
      "cell_type": "code",
      "source": [
        "# Load the dataset\n",
        "df = pd.read_csv('weather_data.csv')\n",
        "\n",
        "# Display the first few rows\n",
        "print(df.head())\n",
        "\n",
        "# Summary of the dataset\n",
        "print(df.describe())\n",
        "\n",
        "# Check for missing values\n",
        "print(df.isnull().sum())\n"
      ],
      "metadata": {
        "colab": {
          "base_uri": "https://localhost:8080/"
        },
        "id": "kQrWc7z1xP30",
        "outputId": "4e927918-0cf2-4fa0-fced-43094c6a70ee"
      },
      "execution_count": null,
      "outputs": [
        {
          "output_type": "stream",
          "name": "stdout",
          "text": [
            "   Outdoor Drybulb Temperature [C]  Outdoor Relative Humidity [%]  \\\n",
            "0                            17.81                          68.12   \n",
            "1                            16.14                          74.75   \n",
            "2                            16.10                          75.88   \n",
            "3                            16.10                          78.25   \n",
            "4                            16.16                          77.75   \n",
            "\n",
            "   Diffuse Solar Radiation [W/m2]  Direct Solar Radiation [W/m2]  \\\n",
            "0                             0.0                            0.0   \n",
            "1                             0.0                            0.0   \n",
            "2                             0.0                            0.0   \n",
            "3                             0.0                            0.0   \n",
            "4                             0.0                            0.0   \n",
            "\n",
            "   6h Prediction Outdoor Drybulb Temperature [C]  \\\n",
            "0                                          16.19   \n",
            "1                                          17.20   \n",
            "2                                          18.76   \n",
            "3                                          21.43   \n",
            "4                                          23.37   \n",
            "\n",
            "   12h Prediction Outdoor Drybulb Temperature [C]  \\\n",
            "0                                           25.29   \n",
            "1                                           25.96   \n",
            "2                                           25.90   \n",
            "3                                           26.08   \n",
            "4                                           25.84   \n",
            "\n",
            "   24h Prediction Outdoor Drybulb Temperature [C]  \\\n",
            "0                                           18.31   \n",
            "1                                           17.25   \n",
            "2                                           15.07   \n",
            "3                                           15.21   \n",
            "4                                           12.91   \n",
            "\n",
            "   6h Prediction Outdoor Relative Humidity [%]  \\\n",
            "0                                        76.47   \n",
            "1                                        72.65   \n",
            "2                                        67.54   \n",
            "3                                        56.74   \n",
            "4                                        50.20   \n",
            "\n",
            "   12h Prediction Outdoor Relative Humidity [%]  \\\n",
            "0                                         44.10   \n",
            "1                                         41.52   \n",
            "2                                         41.96   \n",
            "3                                         42.34   \n",
            "4                                         42.92   \n",
            "\n",
            "   24h Prediction Outdoor Relative Humidity [%]  \\\n",
            "0                                         67.32   \n",
            "1                                         72.46   \n",
            "2                                         82.54   \n",
            "3                                         80.86   \n",
            "4                                         93.52   \n",
            "\n",
            "   6h Prediction Diffuse Solar Radiation [W/m2]  \\\n",
            "0                                          0.00   \n",
            "1                                         41.67   \n",
            "2                                        101.65   \n",
            "3                                        151.99   \n",
            "4                                        187.61   \n",
            "\n",
            "   12h Prediction Diffuse Solar Radiation [W/m2]  \\\n",
            "0                                         171.45   \n",
            "1                                         132.00   \n",
            "2                                         118.76   \n",
            "3                                          69.99   \n",
            "4                                          34.75   \n",
            "\n",
            "   24h Prediction Diffuse Solar Radiation [W/m2]  \\\n",
            "0                                            0.0   \n",
            "1                                            0.0   \n",
            "2                                            0.0   \n",
            "3                                            0.0   \n",
            "4                                            0.0   \n",
            "\n",
            "   6h Prediction Direct Solar Radiation [W/m2]  \\\n",
            "0                                         0.00   \n",
            "1                                        65.46   \n",
            "2                                       329.89   \n",
            "3                                       436.51   \n",
            "4                                       486.97   \n",
            "\n",
            "   12h Prediction Direct Solar Radiation [W/m2]  \\\n",
            "0                                        577.41   \n",
            "1                                        708.69   \n",
            "2                                        595.70   \n",
            "3                                        582.30   \n",
            "4                                        329.68   \n",
            "\n",
            "   24h Prediction Direct Solar Radiation [W/m2]  \n",
            "0                                           0.0  \n",
            "1                                           0.0  \n",
            "2                                           0.0  \n",
            "3                                           0.0  \n",
            "4                                           0.0  \n",
            "       Outdoor Drybulb Temperature [C]  Outdoor Relative Humidity [%]  \\\n",
            "count                      8760.000000                    8760.000000   \n",
            "mean                         20.943678                      72.505914   \n",
            "std                           7.288125                      16.161255   \n",
            "min                          -1.370000                      29.750000   \n",
            "25%                          15.697500                      60.217500   \n",
            "50%                          22.210000                      74.880000   \n",
            "75%                          26.590000                      85.250000   \n",
            "max                          35.540000                     100.000000   \n",
            "\n",
            "       Diffuse Solar Radiation [W/m2]  Direct Solar Radiation [W/m2]  \\\n",
            "count                     8760.000000                    8760.000000   \n",
            "mean                        88.093245                     157.673197   \n",
            "std                        120.875478                     256.569557   \n",
            "min                          0.000000                       0.000000   \n",
            "25%                          0.000000                       0.000000   \n",
            "50%                          8.440000                       0.000000   \n",
            "75%                        153.705000                     252.575000   \n",
            "max                        493.560000                    1011.120000   \n",
            "\n",
            "       6h Prediction Outdoor Drybulb Temperature [C]  \\\n",
            "count                                    8760.000000   \n",
            "mean                                       20.939308   \n",
            "std                                         7.295580   \n",
            "min                                        -1.550000   \n",
            "25%                                        15.677500   \n",
            "50%                                        22.270000   \n",
            "75%                                        26.590000   \n",
            "max                                        35.650000   \n",
            "\n",
            "       12h Prediction Outdoor Drybulb Temperature [C]  \\\n",
            "count                                     8760.000000   \n",
            "mean                                        20.931952   \n",
            "std                                          7.309731   \n",
            "min                                         -1.770000   \n",
            "25%                                         15.647500   \n",
            "50%                                         22.270000   \n",
            "75%                                         26.600000   \n",
            "max                                         35.770000   \n",
            "\n",
            "       24h Prediction Outdoor Drybulb Temperature [C]  \\\n",
            "count                                     8760.000000   \n",
            "mean                                        20.913938   \n",
            "std                                          7.351631   \n",
            "min                                         -2.200000   \n",
            "25%                                         15.580000   \n",
            "50%                                         22.215000   \n",
            "75%                                         26.610000   \n",
            "max                                         36.110000   \n",
            "\n",
            "       6h Prediction Outdoor Relative Humidity [%]  \\\n",
            "count                                  8760.000000   \n",
            "mean                                     72.515559   \n",
            "std                                      16.186156   \n",
            "min                                      29.570000   \n",
            "25%                                      60.060000   \n",
            "50%                                      74.790000   \n",
            "75%                                      85.400000   \n",
            "max                                     100.000000   \n",
            "\n",
            "       12h Prediction Outdoor Relative Humidity [%]  \\\n",
            "count                                   8760.000000   \n",
            "mean                                      72.518376   \n",
            "std                                       16.250643   \n",
            "min                                       29.390000   \n",
            "25%                                       59.807500   \n",
            "50%                                       74.780000   \n",
            "75%                                       85.400000   \n",
            "max                                      100.000000   \n",
            "\n",
            "       24h Prediction Outdoor Relative Humidity [%]  \\\n",
            "count                                   8760.000000   \n",
            "mean                                      72.502740   \n",
            "std                                       16.498144   \n",
            "min                                       28.260000   \n",
            "25%                                       59.837500   \n",
            "50%                                       74.445000   \n",
            "75%                                       85.620000   \n",
            "max                                      100.000000   \n",
            "\n",
            "       6h Prediction Diffuse Solar Radiation [W/m2]  \\\n",
            "count                                   8760.000000   \n",
            "mean                                      88.083348   \n",
            "std                                      120.878896   \n",
            "min                                        0.000000   \n",
            "25%                                        0.000000   \n",
            "50%                                        8.395000   \n",
            "75%                                      153.662500   \n",
            "max                                      497.140000   \n",
            "\n",
            "       12h Prediction Diffuse Solar Radiation [W/m2]  \\\n",
            "count                                    8760.000000   \n",
            "mean                                       88.048680   \n",
            "std                                       120.916655   \n",
            "min                                         0.000000   \n",
            "25%                                         0.000000   \n",
            "50%                                         8.445000   \n",
            "75%                                       153.552500   \n",
            "max                                       505.340000   \n",
            "\n",
            "       24h Prediction Diffuse Solar Radiation [W/m2]  \\\n",
            "count                                    8760.000000   \n",
            "mean                                       88.051328   \n",
            "std                                       121.131888   \n",
            "min                                         0.000000   \n",
            "25%                                         0.000000   \n",
            "50%                                         8.475000   \n",
            "75%                                       152.115000   \n",
            "max                                       522.450000   \n",
            "\n",
            "       6h Prediction Direct Solar Radiation [W/m2]  \\\n",
            "count                                  8760.000000   \n",
            "mean                                    157.626276   \n",
            "std                                     256.496937   \n",
            "min                                       0.000000   \n",
            "25%                                       0.000000   \n",
            "50%                                       0.000000   \n",
            "75%                                     252.245000   \n",
            "max                                    1016.540000   \n",
            "\n",
            "       12h Prediction Direct Solar Radiation [W/m2]  \\\n",
            "count                                   8760.000000   \n",
            "mean                                     157.379683   \n",
            "std                                      256.454241   \n",
            "min                                        0.000000   \n",
            "25%                                        0.000000   \n",
            "50%                                        0.000000   \n",
            "75%                                      251.377500   \n",
            "max                                     1030.510000   \n",
            "\n",
            "       24h Prediction Direct Solar Radiation [W/m2]  \n",
            "count                                   8760.000000  \n",
            "mean                                     157.139514  \n",
            "std                                      256.531801  \n",
            "min                                        0.000000  \n",
            "25%                                        0.000000  \n",
            "50%                                        0.000000  \n",
            "75%                                      248.507500  \n",
            "max                                     1058.470000  \n",
            "Outdoor Drybulb Temperature [C]                   0\n",
            "Outdoor Relative Humidity [%]                     0\n",
            "Diffuse Solar Radiation [W/m2]                    0\n",
            "Direct Solar Radiation [W/m2]                     0\n",
            "6h Prediction Outdoor Drybulb Temperature [C]     0\n",
            "12h Prediction Outdoor Drybulb Temperature [C]    0\n",
            "24h Prediction Outdoor Drybulb Temperature [C]    0\n",
            "6h Prediction Outdoor Relative Humidity [%]       0\n",
            "12h Prediction Outdoor Relative Humidity [%]      0\n",
            "24h Prediction Outdoor Relative Humidity [%]      0\n",
            "6h Prediction Diffuse Solar Radiation [W/m2]      0\n",
            "12h Prediction Diffuse Solar Radiation [W/m2]     0\n",
            "24h Prediction Diffuse Solar Radiation [W/m2]     0\n",
            "6h Prediction Direct Solar Radiation [W/m2]       0\n",
            "12h Prediction Direct Solar Radiation [W/m2]      0\n",
            "24h Prediction Direct Solar Radiation [W/m2]      0\n",
            "dtype: int64\n"
          ]
        }
      ]
    },
    {
      "cell_type": "code",
      "source": [
        "# Drop irrelevant columns (if any) or fill missing values\n",
        "df = df.fillna(method='ffill')\n",
        "\n",
        "# Select input features and target variables\n",
        "X = df[['Outdoor Relative Humidity [%]', 'Diffuse Solar Radiation [W/m2]', 'Direct Solar Radiation [W/m2]']]\n",
        "y = df['Outdoor Drybulb Temperature [C]']  # Example target variable\n"
      ],
      "metadata": {
        "colab": {
          "base_uri": "https://localhost:8080/"
        },
        "id": "DRkxOTJ1xUfL",
        "outputId": "a7bc154e-b9d5-46a1-c8bb-e246fb4bd9e4"
      },
      "execution_count": null,
      "outputs": [
        {
          "output_type": "stream",
          "name": "stderr",
          "text": [
            "<ipython-input-4-a43e3442a45d>:2: FutureWarning: DataFrame.fillna with 'method' is deprecated and will raise in a future version. Use obj.ffill() or obj.bfill() instead.\n",
            "  df = df.fillna(method='ffill')\n"
          ]
        }
      ]
    },
    {
      "cell_type": "code",
      "source": [
        "from sklearn.model_selection import train_test_split\n",
        "\n",
        "# Split the data\n",
        "X_train, X_test, y_train, y_test = train_test_split(X, y, test_size=0.2, random_state=42)\n"
      ],
      "metadata": {
        "id": "4fizSzXUxcPW"
      },
      "execution_count": null,
      "outputs": []
    },
    {
      "cell_type": "code",
      "source": [
        "from sklearn.ensemble import RandomForestRegressor\n",
        "\n",
        "# Initialize and train the model\n",
        "model = RandomForestRegressor(n_estimators=100, random_state=42)\n",
        "model.fit(X_train, y_train)\n",
        "\n",
        "# Save the trained model (optional)\n",
        "import joblib\n",
        "joblib.dump(model, 'weather_model.pkl')\n"
      ],
      "metadata": {
        "colab": {
          "base_uri": "https://localhost:8080/"
        },
        "id": "hYy5nNayxeth",
        "outputId": "2ccce92c-71ab-40d2-d1e0-a68ca0fce1de"
      },
      "execution_count": null,
      "outputs": [
        {
          "output_type": "execute_result",
          "data": {
            "text/plain": [
              "['weather_model.pkl']"
            ]
          },
          "metadata": {},
          "execution_count": 6
        }
      ]
    },
    {
      "cell_type": "code",
      "source": [
        "from sklearn.metrics import mean_absolute_error, mean_squared_error\n",
        "\n",
        "# Predictions on the test set\n",
        "y_pred = model.predict(X_test)\n",
        "\n",
        "# Evaluate the model\n",
        "mae = mean_absolute_error(y_test, y_pred)\n",
        "mse = mean_squared_error(y_test, y_pred)\n",
        "print(f\"Mean Absolute Error: {mae}\")\n",
        "print(f\"Mean Squared Error: {mse}\")\n"
      ],
      "metadata": {
        "colab": {
          "base_uri": "https://localhost:8080/"
        },
        "id": "gErWZvwRxkW3",
        "outputId": "3c7bf799-4589-4284-f2ef-94231192332f"
      },
      "execution_count": null,
      "outputs": [
        {
          "output_type": "stream",
          "name": "stdout",
          "text": [
            "Mean Absolute Error: 5.596182371706066\n",
            "Mean Squared Error: 46.9051999876097\n"
          ]
        }
      ]
    },
    {
      "cell_type": "code",
      "source": [
        "# Example: Predicting for new data\n",
        "new_data = pd.DataFrame({\n",
        "    'Outdoor Relative Humidity [%]': [65, 70, 75],\n",
        "    'Diffuse Solar Radiation [W/m2]': [150, 200, 250],\n",
        "    'Direct Solar Radiation [W/m2]': [300, 350, 400]\n",
        "})\n",
        "\n",
        "predictions = model.predict(new_data)\n",
        "print(\"Predicted Temperatures:\", predictions)\n"
      ],
      "metadata": {
        "colab": {
          "base_uri": "https://localhost:8080/"
        },
        "id": "lTXwYH9Hxn6z",
        "outputId": "fe5045b0-761f-4004-9971-9aa94554a111"
      },
      "execution_count": null,
      "outputs": [
        {
          "output_type": "stream",
          "name": "stdout",
          "text": [
            "Predicted Temperatures: [21.89   22.4116 24.1985]\n"
          ]
        }
      ]
    },
    {
      "cell_type": "code",
      "source": [
        "import matplotlib.pyplot as plt\n",
        "\n",
        "# Compare actual vs predicted\n",
        "plt.scatter(y_test, y_pred)\n",
        "plt.title(\"Actual vs Predicted Temperatures\")\n",
        "plt.xlabel(\"Actual\")\n",
        "plt.ylabel(\"Predicted\")\n",
        "plt.show()\n"
      ],
      "metadata": {
        "colab": {
          "base_uri": "https://localhost:8080/",
          "height": 472
        },
        "id": "ni-yH7YMxq9M",
        "outputId": "fce5b33c-0b22-4987-a858-2fd45aaae7f3"
      },
      "execution_count": null,
      "outputs": [
        {
          "output_type": "display_data",
          "data": {
            "text/plain": [
              "<Figure size 640x480 with 1 Axes>"
            ],
            "image/png": "[encoded data removed]"
          },
          "metadata": {}
        }
      ]
    }
  ]
}