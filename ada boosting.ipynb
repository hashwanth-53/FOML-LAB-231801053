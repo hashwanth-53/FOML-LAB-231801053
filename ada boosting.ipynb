{
 "cells": [
  {
   "cell_type": "code",
   "execution_count": 1,
   "id": "d7f4f4f5-9efc-4447-a71d-7c0d3e029063",
   "metadata": {},
   "outputs": [
    {
     "name": "stdout",
     "output_type": "stream",
     "text": [
      "Accuracy: 0.925\n",
      "Confusion Matrix:\n",
      "[[71  2]\n",
      " [ 7 40]]\n"
     ]
    },
    {
     "name": "stderr",
     "output_type": "stream",
     "text": [
      "C:\\Users\\haris\\anaconda3\\Lib\\site-packages\\sklearn\\ensemble\\_weight_boosting.py:519: FutureWarning: The SAMME.R algorithm (the default) is deprecated and will be removed in 1.6. Use the SAMME algorithm to circumvent this warning.\n",
      "  warnings.warn(\n"
     ]
    }
   ],
   "source": [
    "import pandas as pd\n",
    "from sklearn.model_selection import train_test_split\n",
    "from sklearn.ensemble import AdaBoostClassifier\n",
    "from sklearn.tree import DecisionTreeClassifier\n",
    "from sklearn.metrics import accuracy_score, confusion_matrix\n",
    "\n",
    "# Step 1: Load your SUV dataset from a CSV file\n",
    "df = pd.read_csv('suv_data.csv') # Update with the correct path to your SUV dataset\n",
    "\n",
    "# Step 2: Check for the necessary columns and data types\n",
    "if 'Purchased' not in df.columns:\n",
    "    raise ValueError(\"The target column 'Purchased' is not present in the dataset.\")\n",
    "\n",
    "# Step 3: Define features and target variable\n",
    "X = df.drop(columns=['Purchased']) # Features (all columns except the target)\n",
    "y = df['Purchased'].astype(int) # Target variable (ensure it is an integer)\n",
    "\n",
    "# Step 4: One-hot encode categorical variables manually\n",
    "X = pd.get_dummies(X, drop_first=True) # Automatically handle categorical variables\n",
    "\n",
    "# Step 5: Split the dataset into training and testing sets\n",
    "X_train, X_test, y_train, y_test = train_test_split(X, y, test_size=0.3, random_state=42)\n",
    "\n",
    "# Step 6: Create and train the AdaBoost classifier\n",
    "ada_boost_model = AdaBoostClassifier(n_estimators=50, random_state=42)\n",
    "ada_boost_model.fit(X_train, y_train)\n",
    "\n",
    "# Step 7: Make predictions\n",
    "y_pred = ada_boost_model.predict(X_test)\n",
    "\n",
    "# Step 8: Evaluate the model\n",
    "accuracy = accuracy_score(y_test, y_pred)\n",
    "print(\"Accuracy:\", accuracy)\n",
    "\n",
    "# Step 9: Print the confusion matrix\n",
    "cm = confusion_matrix(y_test, y_pred)\n",
    "print(\"Confusion Matrix:\")\n",
    "print(cm)\n"
   ]
  },
  {
   "cell_type": "code",
   "execution_count": null,
   "id": "f74c6c6d-e494-480b-b247-bb09d909c566",
   "metadata": {},
   "outputs": [],
   "source": []
  }
 ],
 "metadata": {
  "kernelspec": {
   "display_name": "Python 3 (ipykernel)",
   "language": "python",
   "name": "python3"
  },
  "language_info": {
   "codemirror_mode": {
    "name": "ipython",
    "version": 3
   },
   "file_extension": ".py",
   "mimetype": "text/x-python",
   "name": "python",
   "nbconvert_exporter": "python",
   "pygments_lexer": "ipython3",
   "version": "3.12.4"
  }
 },
 "nbformat": 4,
 "nbformat_minor": 5
}
