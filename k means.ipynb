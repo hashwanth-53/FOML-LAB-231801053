{
 "cells": [
  {
   "cell_type": "code",
   "execution_count": 1,
   "id": "f26924bc-6edc-4829-85a1-cbb4dc33f8ff",
   "metadata": {},
   "outputs": [
    {
     "name": "stdout",
     "output_type": "stream",
     "text": [
      "Cluster Centers:\n",
      "[[3.53306452e+01 7.90887097e+04]\n",
      " [3.72643678e+01 2.68735632e+04]\n",
      " [4.17209302e+01 1.09046512e+05]\n",
      " [4.37105263e+01 1.38394737e+05]\n",
      " [3.68888889e+01 5.37407407e+04]]\n"
     ]
    },
    {
     "name": "stderr",
     "output_type": "stream",
     "text": [
      "C:\\Users\\haris\\anaconda3\\Lib\\site-packages\\sklearn\\cluster\\_kmeans.py:1446: UserWarning: KMeans is known to have a memory leak on Windows with MKL, when there are less chunks than available threads. You can avoid it by setting the environment variable OMP_NUM_THREADS=2.\n",
      "  warnings.warn(\n"
     ]
    }
   ],
   "source": [
    "import pandas as pd\n",
    "import matplotlib.pyplot as plt\n",
    "from sklearn.cluster import KMeans\n",
    "\n",
    "# Step 1: Load your dataset from a CSV file\n",
    "df = pd.read_csv('suv_data.csv') # Update with the correct path to your dataset\n",
    "\n",
    "# Step 2: Define features for clustering\n",
    "# Here, we select features that are relevant for clustering; you can modify this based on your dataset\n",
    "X = df[['Age', 'EstimatedSalary']] # Replace with relevant feature columns from your dataset\n",
    "\n",
    "# Step 3: Create a k-Means model\n",
    "k = 5 # Number of clusters\n",
    "kmeans = KMeans(n_clusters=k, random_state=42)\n",
    "\n",
    "# Step 4: Fit the model\n",
    "kmeans.fit(X)\n",
    "\n",
    "# Step 5: Predict the clusters\n",
    "df['Cluster'] = kmeans.labels_\n",
    "\n",
    "\n",
    "\n",
    "# Step 7: Print the cluster centers\n",
    "print(\"Cluster Centers:\")\n",
    "print(kmeans.cluster_centers_)\n",
    "\n"
   ]
  },
  {
   "cell_type": "code",
   "execution_count": null,
   "id": "0993cd34-e80d-41c0-b81a-64ccfa46383b",
   "metadata": {},
   "outputs": [],
   "source": []
  }
 ],
 "metadata": {
  "kernelspec": {
   "display_name": "Python 3 (ipykernel)",
   "language": "python",
   "name": "python3"
  },
  "language_info": {
   "codemirror_mode": {
    "name": "ipython",
    "version": 3
   },
   "file_extension": ".py",
   "mimetype": "text/x-python",
   "name": "python",
   "nbconvert_exporter": "python",
   "pygments_lexer": "ipython3",
   "version": "3.12.4"
  }
 },
 "nbformat": 4,
 "nbformat_minor": 5
}
